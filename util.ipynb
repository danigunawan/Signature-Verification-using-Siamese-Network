{
 "cells": [
  {
   "cell_type": "code",
   "execution_count": 1,
   "metadata": {},
   "outputs": [
    {
     "name": "stderr",
     "output_type": "stream",
     "text": [
      "C:\\Users\\aarti\\anaconda3\\lib\\site-packages\\tensorflow\\python\\framework\\dtypes.py:526: FutureWarning: Passing (type, 1) or '1type' as a synonym of type is deprecated; in a future version of numpy, it will be understood as (type, (1,)) / '(1,)type'.\n",
      "  _np_qint8 = np.dtype([(\"qint8\", np.int8, 1)])\n",
      "C:\\Users\\aarti\\anaconda3\\lib\\site-packages\\tensorflow\\python\\framework\\dtypes.py:527: FutureWarning: Passing (type, 1) or '1type' as a synonym of type is deprecated; in a future version of numpy, it will be understood as (type, (1,)) / '(1,)type'.\n",
      "  _np_quint8 = np.dtype([(\"quint8\", np.uint8, 1)])\n",
      "C:\\Users\\aarti\\anaconda3\\lib\\site-packages\\tensorflow\\python\\framework\\dtypes.py:528: FutureWarning: Passing (type, 1) or '1type' as a synonym of type is deprecated; in a future version of numpy, it will be understood as (type, (1,)) / '(1,)type'.\n",
      "  _np_qint16 = np.dtype([(\"qint16\", np.int16, 1)])\n",
      "C:\\Users\\aarti\\anaconda3\\lib\\site-packages\\tensorflow\\python\\framework\\dtypes.py:529: FutureWarning: Passing (type, 1) or '1type' as a synonym of type is deprecated; in a future version of numpy, it will be understood as (type, (1,)) / '(1,)type'.\n",
      "  _np_quint16 = np.dtype([(\"quint16\", np.uint16, 1)])\n",
      "C:\\Users\\aarti\\anaconda3\\lib\\site-packages\\tensorflow\\python\\framework\\dtypes.py:530: FutureWarning: Passing (type, 1) or '1type' as a synonym of type is deprecated; in a future version of numpy, it will be understood as (type, (1,)) / '(1,)type'.\n",
      "  _np_qint32 = np.dtype([(\"qint32\", np.int32, 1)])\n",
      "C:\\Users\\aarti\\anaconda3\\lib\\site-packages\\tensorflow\\python\\framework\\dtypes.py:535: FutureWarning: Passing (type, 1) or '1type' as a synonym of type is deprecated; in a future version of numpy, it will be understood as (type, (1,)) / '(1,)type'.\n",
      "  np_resource = np.dtype([(\"resource\", np.ubyte, 1)])\n",
      "Using TensorFlow backend.\n"
     ]
    }
   ],
   "source": [
    "import numpy as np\n",
    "import cv2\n",
    "import base64\n",
    "from tensorflow.python.keras.backend import set_session\n",
    "from keras.models import load_model\n",
    "import tensorflow as tf\n",
    "from PIL import Image"
   ]
  },
  {
   "cell_type": "code",
   "execution_count": 2,
   "metadata": {},
   "outputs": [],
   "source": [
    "model = None"
   ]
  },
  {
   "cell_type": "code",
   "execution_count": 3,
   "metadata": {},
   "outputs": [],
   "source": [
    "sess = tf.Session()\n",
    "graph = tf.get_default_graph()"
   ]
  },
  {
   "cell_type": "code",
   "execution_count": 4,
   "metadata": {},
   "outputs": [],
   "source": [
    "def crop(img):\n",
    "    points = cv2.findNonZero(img)\n",
    "    x, y, w, h = cv2.boundingRect(points)\n",
    "    return img[y: y+h, x: x+w]"
   ]
  },
  {
   "cell_type": "code",
   "execution_count": 5,
   "metadata": {},
   "outputs": [],
   "source": [
    "def preprocess(img):\n",
    "    #img = cv2.imread(img_path,1)\n",
    "\n",
    "    img = cv2.cvtColor(img,cv2.COLOR_BGR2GRAY)\n",
    "    ret,img = cv2.threshold(img,80,255, cv2.THRESH_BINARY_INV)\n",
    "    \n",
    "    img = crop(img)\n",
    "    ret,img = cv2.threshold(img,150,255, cv2.THRESH_BINARY_INV)\n",
    "    img = cv2.cvtColor(img, cv2.COLOR_BGR2RGB)\n",
    "    img = Image.fromarray(img)\n",
    "    \n",
    "    open_cv_image = np.array(img) \n",
    "    open_cv_image = open_cv_image[:, :, ::-1].copy()\n",
    "    img = cv2.cvtColor(open_cv_image,cv2.COLOR_BGR2GRAY)\n",
    "    \n",
    "    img = np.where( img < 150,0,img)\n",
    "    img = np.where(img > 200,255,img)\n",
    "    \n",
    "    img = cv2.resize(img,(96,96),interpolation=cv2.INTER_AREA)\n",
    "    \n",
    "    img = cv2.cvtColor(img, cv2.COLOR_GRAY2BGR)\n",
    "\n",
    "    return img"
   ]
  },
  {
   "cell_type": "code",
   "execution_count": 6,
   "metadata": {},
   "outputs": [],
   "source": [
    "def verify(img1_base64,img2_base64):\n",
    "    \n",
    "    global model\n",
    "    \n",
    "    img1 = get_cv2_image_from_base64_string(img1_base64)\n",
    "    \n",
    "    img2 = get_cv2_image_from_base64_string(img2_base64)\n",
    "    \n",
    "    img1 = preprocess(img1)\n",
    "    \n",
    "    img2 = preprocess(img2)\n",
    "    \n",
    "    encoding1 = img_to_encoding(img1,model)\n",
    "    \n",
    "    encoding2 = img_to_encoding(img2,model)\n",
    "    \n",
    "    dist = round(np.linalg.norm(encoding2 - encoding1 , ord = 2),2)\n",
    "    \n",
    "    if dist < 0.405:\n",
    "        return f'Two signatures are same with {dist}'\n",
    "    else:\n",
    "        return f'Two signatures are different with {dist}'\n",
    "         "
   ]
  },
  {
   "cell_type": "code",
   "execution_count": 7,
   "metadata": {},
   "outputs": [],
   "source": [
    "def get_cv2_image_from_base64_string(b64str):\n",
    "    '''\n",
    "    credit: https://stackoverflow.com/questions/33754935/read-a-base-64-encoded-image-from-memory-using-opencv-python-library\n",
    "    :param uri:\n",
    "    :return:\n",
    "    '''\n",
    "    encoded_data = b64str.split(',')[1]\n",
    "    nparr = np.frombuffer(base64.b64decode(encoded_data), np.uint8)\n",
    "    img = cv2.imdecode(nparr, cv2.IMREAD_COLOR)\n",
    "    return img"
   ]
  },
  {
   "cell_type": "code",
   "execution_count": 8,
   "metadata": {},
   "outputs": [],
   "source": [
    "def triplet_loss(y_true, y_pred, alpha = 0.2):\n",
    "\n",
    "    \n",
    "    anchor, positive, negative = y_pred[0], y_pred[1], y_pred[2]\n",
    "    \n",
    "    pos_dist = tf.reduce_sum(tf.square(tf.subtract(anchor, positive)),axis=-1)\n",
    "    \n",
    "    neg_dist = tf.reduce_sum(tf.square(tf.subtract(anchor, negative)),axis=-1)\n",
    "    \n",
    "    basic_loss = tf.add(tf.subtract(pos_dist, neg_dist),alpha)\n",
    "    \n",
    "    loss = tf.reduce_sum(tf.maximum(basic_loss,0.0))\n",
    " \n",
    "    \n",
    "    return loss"
   ]
  },
  {
   "cell_type": "code",
   "execution_count": 9,
   "metadata": {},
   "outputs": [],
   "source": [
    "def load_saved_artifacts():\n",
    "    print(\"loading saved artifacts...start\")\n",
    "\n",
    "    global model\n",
    "    if model is None:\n",
    "            global sess\n",
    "            set_session(sess)\n",
    "            model = load_model('artifacts/FRmodel.h5',custom_objects={'triplet_loss': triplet_loss})\n",
    "            model._make_predict_function()\n",
    "            graph = tf.get_default_graph()\n",
    "    print(\"loading saved artifacts...done\")"
   ]
  },
  {
   "cell_type": "code",
   "execution_count": 10,
   "metadata": {},
   "outputs": [],
   "source": [
    "def get_b64_test_sign(txt_file_name):\n",
    "    with open(txt_file_name) as f:\n",
    "        return f.read()"
   ]
  },
  {
   "cell_type": "code",
   "execution_count": 11,
   "metadata": {},
   "outputs": [],
   "source": [
    "def img_to_encoding(img1, model):\n",
    "    global graph\n",
    "    global sess\n",
    "    img = img1[...,::-1]\n",
    "    img = np.around(np.transpose(img, (2,0,1))/255.0, decimals=12)\n",
    "    x_train = np.array([img])\n",
    "    \n",
    "    with graph.as_default():\n",
    "        set_session(sess)\n",
    "        embedding = model.predict(x_train)\n",
    "    return embedding"
   ]
  },
  {
   "cell_type": "code",
   "execution_count": 12,
   "metadata": {},
   "outputs": [
    {
     "name": "stdout",
     "output_type": "stream",
     "text": [
      "loading saved artifacts...start\n",
      "WARNING:tensorflow:From C:\\Users\\aarti\\anaconda3\\lib\\site-packages\\tensorflow\\python\\ops\\resource_variable_ops.py:435: colocate_with (from tensorflow.python.framework.ops) is deprecated and will be removed in a future version.\n",
      "Instructions for updating:\n",
      "Colocations handled automatically by placer.\n",
      "loading saved artifacts...done\n"
     ]
    }
   ],
   "source": [
    "if __name__ == '__main__':  \n",
    "    load_saved_artifacts()"
   ]
  },
  {
   "cell_type": "code",
   "execution_count": null,
   "metadata": {},
   "outputs": [],
   "source": []
  },
  {
   "cell_type": "code",
   "execution_count": null,
   "metadata": {},
   "outputs": [],
   "source": []
  }
 ],
 "metadata": {
  "kernelspec": {
   "display_name": "Python 3",
   "language": "python",
   "name": "python3"
  },
  "language_info": {
   "codemirror_mode": {
    "name": "ipython",
    "version": 3
   },
   "file_extension": ".py",
   "mimetype": "text/x-python",
   "name": "python",
   "nbconvert_exporter": "python",
   "pygments_lexer": "ipython3",
   "version": "3.7.6"
  }
 },
 "nbformat": 4,
 "nbformat_minor": 4
}
